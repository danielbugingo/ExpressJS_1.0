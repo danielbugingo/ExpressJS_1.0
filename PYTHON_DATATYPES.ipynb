{
  "cells": [
    {
      "cell_type": "markdown",
      "metadata": {
        "id": "view-in-github",
        "colab_type": "text"
      },
      "source": [
        "<a href=\"https://colab.research.google.com/github/danielbugingo/ExpressJS_1.0/blob/master/PYTHON_DATATYPES.ipynb\" target=\"_parent\"><img src=\"https://colab.research.google.com/assets/colab-badge.svg\" alt=\"Open In Colab\"/></a>"
      ]
    },
    {
      "cell_type": "markdown",
      "id": "b8650695",
      "metadata": {
        "id": "b8650695"
      },
      "source": [
        "# **Understanding Python datatypes**\n",
        "---\n",
        "## 1 Numbers  \n",
        "**_Integers_**  \n",
        "```\n",
        "num = 55\n",
        "print(num)``` This will return the positive integer 55 with the type < int >\n",
        "\n",
        "```print(type(num))``` This will return the type of this integer < int >  \n",
        "   * We have two types of Integers in python. The positive integer numbers and the negative integer numbers. All mathematical operators such as Multiplication (*), Addition (+), Subtraction (-) Division (/ or //), and Modulous (%) can be applied on integers. In a nutshell, there're positive and negative integers.\n",
        "   * Integers are immutable (Meaning that an integer can not be altered)\n",
        "   * Trying to alter an integer will simply re-assign it a different value\n",
        "   * Unlike other other mathimatical operators such as addition (+), subtraction (-), and multiplications (*) which always result into an integer. The division (/) on the other hand will at all times return a floating point number or what we refer to as a number with a fraction part to it for example 55.4  \n",
        "   * Integers can not be concatenated (joined) with a string except through \"type conversion\" where the ```Integer``` is converted to a string using the ```str()``` method. This methof takes one argument of the integer to be converted e.g ```str(number)```\n",
        "\n",
        "**_Floats_**  \n",
        "\n",
        "## 2 Strings  \n",
        "\n",
        "## 3 Boolean"
      ]
    },
    {
      "cell_type": "code",
      "execution_count": null,
      "id": "324928fa",
      "metadata": {
        "id": "324928fa",
        "outputId": "bba6112c-581c-4a20-d6ae-0705bd2ca6fd"
      },
      "outputs": [
        {
          "name": "stdout",
          "output_type": "stream",
          "text": [
            "1.6666666666666667\n",
            "1\n",
            "2\n",
            "2\n",
            "<class 'int'>\n",
            "1\n"
          ]
        }
      ],
      "source": [
        "a = 5\n",
        "b = 3\n",
        "c = a / b\n",
        "d = a // b\n",
        "print(a/b) #Returns a floating point number or a number with decimal places.\n",
        "print(a//b) #Returns an integer without or ignoring the decimal places. We call this Flooring\n",
        "print(round(c)) #Unlike the \"//\" operator, the round function rounds-up to the desired decimal\n",
        "print(a % b) #This will return the remainder, which is 2 for this case\n",
        "print(type(d)) #Checking for the type of a given object or variable\n",
        "print(str(d)) #This is called type convertion, converting a number to a string"
      ]
    },
    {
      "cell_type": "markdown",
      "id": "3ab87e3d-d3ed-4237-a8a0-2e7aefe9cded",
      "metadata": {
        "id": "3ab87e3d-d3ed-4237-a8a0-2e7aefe9cded"
      },
      "source": [
        "## **DataType  conversion and type checking**\n",
        "While dealing with python datatypes, there 3 major methods that will come in handy especially for to maintain consistancy and being sure you are dealing with the right datatype;\n",
        "* Type conversion using the int() and the str() methods\n",
        "* Type checking using the isinstance() method taking two arguments and returning a boolean (True or False) and the type() method taking one parameter and returning the object type of a given variable."
      ]
    },
    {
      "cell_type": "code",
      "execution_count": null,
      "id": "49d10a6b-87a1-4c02-8bc1-85d80cdaabb3",
      "metadata": {
        "colab": {
          "base_uri": "https://localhost:8080/"
        },
        "id": "49d10a6b-87a1-4c02-8bc1-85d80cdaabb3",
        "outputId": "d897850d-d13a-49a6-f5c5-dab282899601"
      },
      "outputs": [
        {
          "output_type": "stream",
          "name": "stdout",
          "text": [
            "<class 'int'>\n",
            "<class 'str'>\n",
            "\n",
            "True\n",
            "False\n",
            "\n",
            "False\n",
            "True\n",
            "True\n"
          ]
        }
      ],
      "source": [
        "num = 55\n",
        "stri = '55'\n",
        "xx = num\n",
        "bul = True\n",
        "#type() Takes 1 argument\n",
        "#isinstance() Takes 2 argument\n",
        "\n",
        "print(type(num))\n",
        "print(type(stri))\n",
        "print()\n",
        "print(isinstance(num, int))\n",
        "print(isinstance(num, str))\n",
        "print()\n",
        "print(isinstance(stri, int))\n",
        "print(isinstance(stri, str))\n",
        "print(isinstance(bul, bool))"
      ]
    },
    {
      "cell_type": "code",
      "execution_count": null,
      "id": "7844ee14-6f94-48cc-9a31-6831a44da293",
      "metadata": {
        "id": "7844ee14-6f94-48cc-9a31-6831a44da293"
      },
      "outputs": [],
      "source": [
        ""
      ]
    }
  ],
  "metadata": {
    "kernelspec": {
      "display_name": "Python 3 (ipykernel)",
      "language": "python",
      "name": "python3"
    },
    "language_info": {
      "codemirror_mode": {
        "name": "ipython",
        "version": 3
      },
      "file_extension": ".py",
      "mimetype": "text/x-python",
      "name": "python",
      "nbconvert_exporter": "python",
      "pygments_lexer": "ipython3",
      "version": "3.10.0"
    },
    "colab": {
      "name": "Copy of PYTHON DATATYPES.ipynb",
      "provenance": [],
      "collapsed_sections": [],
      "include_colab_link": true
    }
  },
  "nbformat": 4,
  "nbformat_minor": 5
}